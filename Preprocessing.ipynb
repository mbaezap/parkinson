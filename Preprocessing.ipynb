{
  "nbformat": 4,
  "nbformat_minor": 0,
  "metadata": {
    "colab": {
      "name": "Preprocessing.ipynb",
      "provenance": [],
      "collapsed_sections": []
    },
    "kernelspec": {
      "display_name": "Python 3",
      "language": "python",
      "name": "python3"
    },
    "language_info": {
      "codemirror_mode": {
        "name": "ipython",
        "version": 3
      },
      "file_extension": ".py",
      "mimetype": "text/x-python",
      "name": "python",
      "nbconvert_exporter": "python",
      "pygments_lexer": "ipython3",
      "version": "3.8.5"
    }
  },
  "cells": [
    {
      "cell_type": "markdown",
      "metadata": {
        "id": "i5I2z57K1cSx"
      },
      "source": [
        "**Parkinson’s disease (PD) patients** \n",
        "- Subjects:\n",
        "    - S1 - S10\n",
        "    - S13 - S14\n",
        "    - S16 - S21\n",
        "- Total: 18\n",
        "- Proportion: 54%\n",
        "- Sessions: 8 - 11, except S16, 5\n",
        "\n",
        "**Healthy controls**\n",
        "- Subjects: \n",
        "    - S11 - S12\n",
        "    - S15\n",
        "    - S22 - S33 \n",
        "- Total: 15\n",
        "- Proportion: 45%\n",
        "- Sessions: 8-11"
      ]
    },
    {
      "cell_type": "code",
      "metadata": {
        "id": "whyenOd61cSy",
        "colab": {
          "base_uri": "https://localhost:8080/"
        },
        "outputId": "43081f71-5c09-4c3c-e95f-d4e99a5acf35"
      },
      "source": [
        "import pandas as pd \n",
        "import numpy as np\n",
        "import os\n",
        "from os import walk\n",
        "import statistics\n",
        "from matplotlib import pyplot as pt\n",
        "from scipy.stats import kurtosis\n",
        "from scipy.stats import skew\n",
        "from scipy.stats import mannwhitneyu\n",
        "import math \n",
        "from scipy.stats import spearmanr\n",
        "import warnings\n",
        "warnings.filterwarnings('ignore')\n",
        "import plotly.graph_objects as go\n",
        "from tqdm.notebook import tqdm\n",
        "%matplotlib inline\n",
        "from matplotlib import pyplot as plt\n",
        "from google.colab import drive\n",
        "\n",
        "drive.mount('/content/gdrive')"
      ],
      "execution_count": null,
      "outputs": [
        {
          "output_type": "stream",
          "text": [
            "Drive already mounted at /content/gdrive; to attempt to forcibly remount, call drive.mount(\"/content/gdrive\", force_remount=True).\n"
          ],
          "name": "stdout"
        }
      ]
    },
    {
      "cell_type": "code",
      "metadata": {
        "id": "7nhMAVvs1cSz"
      },
      "source": [
        "#Read data\n",
        "n_subjects = 33\n",
        "press = []\n",
        "release = []\n",
        "pressure = []\n",
        "ses = []\n",
        "sub = []\n",
        "i= -1\n",
        "patient_session = []\n",
        "\n",
        "for subject in list(range(1, n_subjects+1)):\n",
        "    subjectID = str(subject).zfill(2)\n",
        "    path_to_data = \"/content/gdrive/MyDrive/TFM/i-PROGNOSIS_DS2.5_Sub1_KeystrokeTimingPressureData/Data\"+ \"/S\" + subjectID\n",
        "    #path_to_data = \"/Users/mariabaeza/Desktop/Universidad/BigData/TFM/i-PROGNOSIS_DS2.5_Sub1_KeystrokeTimingPressureData/Data\"+  \"/S\" + subjectID\n",
        "    os.chdir(path_to_data)\n",
        "    i+=1\n",
        "    j = 0\n",
        "    _, _, filenames = next(walk(path_to_data))\n",
        "    for session in filenames:\n",
        "        if session != \".DS_Store\":\n",
        "            j+=1\n",
        "            with open(session) as f:\n",
        "                lines = f.read().splitlines()\n",
        "                for line in lines:\n",
        "                    if line != \"\":\n",
        "                        x = line.split(\",\")\n",
        "                        y = x[2].split(\" \")\n",
        "                        press.append(int(x[1]))\n",
        "                        release.append(int(y[1]))\n",
        "                        pressure.append(float(x[3]))\n",
        "                        ses.append(int(session.split(\"_\")[1].split(\".\")[0].split(\"TEX\")[1]))\n",
        "                        sub.append(int(subject))\n",
        "    patient_session.append(j)"
      ],
      "execution_count": null,
      "outputs": []
    },
    {
      "cell_type": "code",
      "metadata": {
        "id": "CO0z0dMF1cSz"
      },
      "source": [
        "#Create dataframe\n",
        "data = {'PressTime':  press,\n",
        "        'ReleaseTime': release,\n",
        "        'Pressure': pressure,\n",
        "        'SessionID': ses,\n",
        "        'SubjectID': sub\n",
        "        }\n",
        "\n",
        "df = pd.DataFrame (data, columns = ['PressTime','ReleaseTime','Pressure','SessionID','SubjectID'])\n",
        "\n",
        "pd_patients = [1,2,3,4,5,6,7,8,9,10,13,14,16,17,18,19,20,21]\n",
        "df['Class'] = np.zeros(len(df))\n",
        "df[\"Class\"]=df.SubjectID.apply(lambda x: x in pd_patients,1)\n",
        "df.head()\n"
      ],
      "execution_count": null,
      "outputs": []
    },
    {
      "cell_type": "code",
      "metadata": {
        "colab": {
          "base_uri": "https://localhost:8080/",
          "height": 204
        },
        "id": "KI0ZBpM_1cS0",
        "outputId": "1827f2f7-75f2-4867-8502-6482e514e77d"
      },
      "source": [
        "df['Time']= np.zeros(len(df))\n",
        "for subject, session in df.groupby([\"SubjectID\",\"SessionID\"]): \n",
        "    time_session = session.PressTime - session.PressTime.iloc[0]\n",
        "    df.iloc[time_session.index,6] = time_session/1000\n",
        "df.head()\n"
      ],
      "execution_count": null,
      "outputs": [
        {
          "output_type": "execute_result",
          "data": {
            "text/html": [
              "<div>\n",
              "<style scoped>\n",
              "    .dataframe tbody tr th:only-of-type {\n",
              "        vertical-align: middle;\n",
              "    }\n",
              "\n",
              "    .dataframe tbody tr th {\n",
              "        vertical-align: top;\n",
              "    }\n",
              "\n",
              "    .dataframe thead th {\n",
              "        text-align: right;\n",
              "    }\n",
              "</style>\n",
              "<table border=\"1\" class=\"dataframe\">\n",
              "  <thead>\n",
              "    <tr style=\"text-align: right;\">\n",
              "      <th></th>\n",
              "      <th>PressTime</th>\n",
              "      <th>ReleaseTime</th>\n",
              "      <th>Pressure</th>\n",
              "      <th>SessionID</th>\n",
              "      <th>SubjectID</th>\n",
              "      <th>Class</th>\n",
              "      <th>Time</th>\n",
              "    </tr>\n",
              "  </thead>\n",
              "  <tbody>\n",
              "    <tr>\n",
              "      <th>0</th>\n",
              "      <td>17659554</td>\n",
              "      <td>17659619</td>\n",
              "      <td>0.6125</td>\n",
              "      <td>11</td>\n",
              "      <td>1</td>\n",
              "      <td>True</td>\n",
              "      <td>0.000</td>\n",
              "    </tr>\n",
              "    <tr>\n",
              "      <th>1</th>\n",
              "      <td>17660252</td>\n",
              "      <td>17660332</td>\n",
              "      <td>0.6750</td>\n",
              "      <td>11</td>\n",
              "      <td>1</td>\n",
              "      <td>True</td>\n",
              "      <td>0.698</td>\n",
              "    </tr>\n",
              "    <tr>\n",
              "      <th>2</th>\n",
              "      <td>17660866</td>\n",
              "      <td>17660948</td>\n",
              "      <td>0.6250</td>\n",
              "      <td>11</td>\n",
              "      <td>1</td>\n",
              "      <td>True</td>\n",
              "      <td>1.312</td>\n",
              "    </tr>\n",
              "    <tr>\n",
              "      <th>3</th>\n",
              "      <td>17661676</td>\n",
              "      <td>17661736</td>\n",
              "      <td>0.7000</td>\n",
              "      <td>11</td>\n",
              "      <td>1</td>\n",
              "      <td>True</td>\n",
              "      <td>2.122</td>\n",
              "    </tr>\n",
              "    <tr>\n",
              "      <th>4</th>\n",
              "      <td>17662864</td>\n",
              "      <td>17662942</td>\n",
              "      <td>0.6500</td>\n",
              "      <td>11</td>\n",
              "      <td>1</td>\n",
              "      <td>True</td>\n",
              "      <td>3.310</td>\n",
              "    </tr>\n",
              "  </tbody>\n",
              "</table>\n",
              "</div>"
            ],
            "text/plain": [
              "   PressTime  ReleaseTime  Pressure  SessionID  SubjectID  Class   Time\n",
              "0   17659554     17659619    0.6125         11          1   True  0.000\n",
              "1   17660252     17660332    0.6750         11          1   True  0.698\n",
              "2   17660866     17660948    0.6250         11          1   True  1.312\n",
              "3   17661676     17661736    0.7000         11          1   True  2.122\n",
              "4   17662864     17662942    0.6500         11          1   True  3.310"
            ]
          },
          "metadata": {
            "tags": []
          },
          "execution_count": 4
        }
      ]
    },
    {
      "cell_type": "code",
      "metadata": {
        "id": "YyFpeBxI1cS0"
      },
      "source": [
        "#df.to_csv(\"/Users/mariabaeza/Desktop/Universidad/BigData/TFM/data.csv\")"
      ],
      "execution_count": null,
      "outputs": []
    },
    {
      "cell_type": "code",
      "metadata": {
        "colab": {
          "base_uri": "https://localhost:8080/",
          "height": 295
        },
        "id": "hsHGvvANRC0v",
        "outputId": "7ff4fcaf-aa8b-40c9-89f6-bddeeb3bbdeb"
      },
      "source": [
        "aa = df.groupby([\"SubjectID\"]).size()\n",
        "Subjects = [str(i) for i in range(1,34)]\n",
        "plt.figure(figsize=(9, 4))\n",
        "plt.bar(Subjects,patient_session, edgecolor=\"royalblue\",color= 'lightsteelblue')\n",
        "plt.xticks(rotation=0)\n",
        "plt.xlabel(\"Subject ID\")\n",
        "plt.ylabel(\"Sessions\")\n",
        "plt.title(\"Number of session per patient\")\n",
        "plt.axhline(y = 6, color = \"k\")\n",
        "plt.savefig('/content/gdrive/MyDrive/TFM/session_patient.eps', format='eps')"
      ],
      "execution_count": null,
      "outputs": [
        {
          "output_type": "display_data",
          "data": {
            "image/png": "[encoded data removed]",
            "text/plain": [
              "<Figure size 648x288 with 1 Axes>"
            ]
          },
          "metadata": {
            "tags": [],
            "needs_background": "light"
          }
        }
      ]
    },
    {
      "cell_type": "code",
      "metadata": {
        "id": "8UWxsUVOZsyM"
      },
      "source": [
        "session_size.to_csv(\"/content/gdrive/MyDrive/TFM/session_size.csv\")"
      ],
      "execution_count": null,
      "outputs": []
    },
    {
      "cell_type": "code",
      "metadata": {
        "colab": {
          "base_uri": "https://localhost:8080/",
          "height": 312
        },
        "id": "3pX9kYsMYkyM",
        "outputId": "b11bf619-adda-46e4-8d10-f1e3788dd054"
      },
      "source": [
        "session_size = df.groupby([\"SubjectID\",\"SessionID\"]).size()\n",
        "plt.figure(figsize=(9, 4))\n",
        "plt.hist(session_size.values,density=True, bins=50,  edgecolor=\"royalblue\",  color= 'lightsteelblue')\n",
        "plt.xlabel(\"Keys\")\n",
        "plt.title(\"Number of pressed keys per sessions\")\n",
        "plt.axvline(x=35, color = \"k\")\n",
        "#plt.savefig('/content/gdrive/MyDrive/TFM/key_session.eps', format='eps')"
      ],
      "execution_count": null,
      "outputs": [
        {
          "output_type": "execute_result",
          "data": {
            "text/plain": [
              "<matplotlib.lines.Line2D at 0x7f8851542150>"
            ]
          },
          "metadata": {
            "tags": []
          },
          "execution_count": 16
        },
        {
          "output_type": "display_data",
          "data": {
            "image/png": "[encoded data removed]",
            "text/plain": [
              "<Figure size 648x288 with 1 Axes>"
            ]
          },
          "metadata": {
            "tags": [],
            "needs_background": "light"
          }
        }
      ]
    },
    {
      "cell_type": "markdown",
      "metadata": {
        "id": "lXYNUukF1cS0"
      },
      "source": [
        "$HT_n = t_n^r - t_n^p, n=1,2,...,N$\n",
        "\n",
        "$FT_n = t_{n-1}^p - t_n^r, n=1,2,..., N-1$"
      ]
    },
    {
      "cell_type": "code",
      "metadata": {
        "colab": {
          "base_uri": "https://localhost:8080/"
        },
        "id": "n3jNRSAE1cS1",
        "outputId": "38d9afe2-90bc-4b32-cb30-565cb5406b9f"
      },
      "source": [
        "#Number of keys for each subject and session\n",
        "df.groupby([\"SubjectID\",\"SessionID\"]).size()"
      ],
      "execution_count": null,
      "outputs": [
        {
          "output_type": "execute_result",
          "data": {
            "text/plain": [
              "SubjectID  SessionID\n",
              "1          1            195\n",
              "           2             49\n",
              "           3             57\n",
              "           4             47\n",
              "           5             57\n",
              "                       ... \n",
              "33         6             88\n",
              "           7             67\n",
              "           8             52\n",
              "           9             95\n",
              "           10            50\n",
              "Length: 338, dtype: int64"
            ]
          },
          "metadata": {
            "tags": []
          },
          "execution_count": 9
        }
      ]
    },
    {
      "cell_type": "code",
      "metadata": {
        "colab": {
          "base_uri": "https://localhost:8080/",
          "height": 204
        },
        "id": "syGzLrjQ1cS1",
        "outputId": "529a76f3-c216-4de7-ffe8-a4d8390e4554"
      },
      "source": [
        "df_feat = pd.DataFrame()\n",
        "df_feat['NP'] = df['Pressure']\n",
        "df_feat[\"HT\"] = df[\"ReleaseTime\"] - df[\"PressTime\"]\n",
        "df_feat[\"FT\"] = np.zeros(len(df))\n",
        "df_feat[\"SessionID\"] =  df['SessionID']\n",
        "df_feat[\"SubjectID\"] =  df['SubjectID']\n",
        "for subject, session in df.groupby([\"SubjectID\",\"SessionID\"]): \n",
        "    iterkey = session.iterrows()\n",
        "    for index, row in iterkey:\n",
        "        df_feat.iloc[index-1,2] = df.iloc[index ,0] - df.iloc[index - 1,1]\n",
        "df_feat['Class'] = df.Class\n",
        "df_feat['Time'] = df.Time\n",
        "df_feat.head() \n"
      ],
      "execution_count": null,
      "outputs": [
        {
          "output_type": "execute_result",
          "data": {
            "text/html": [
              "<div>\n",
              "<style scoped>\n",
              "    .dataframe tbody tr th:only-of-type {\n",
              "        vertical-align: middle;\n",
              "    }\n",
              "\n",
              "    .dataframe tbody tr th {\n",
              "        vertical-align: top;\n",
              "    }\n",
              "\n",
              "    .dataframe thead th {\n",
              "        text-align: right;\n",
              "    }\n",
              "</style>\n",
              "<table border=\"1\" class=\"dataframe\">\n",
              "  <thead>\n",
              "    <tr style=\"text-align: right;\">\n",
              "      <th></th>\n",
              "      <th>NP</th>\n",
              "      <th>HT</th>\n",
              "      <th>FT</th>\n",
              "      <th>SessionID</th>\n",
              "      <th>SubjectID</th>\n",
              "      <th>Class</th>\n",
              "      <th>Time</th>\n",
              "    </tr>\n",
              "  </thead>\n",
              "  <tbody>\n",
              "    <tr>\n",
              "      <th>0</th>\n",
              "      <td>0.6125</td>\n",
              "      <td>65</td>\n",
              "      <td>633.0</td>\n",
              "      <td>11</td>\n",
              "      <td>1</td>\n",
              "      <td>True</td>\n",
              "      <td>0.000</td>\n",
              "    </tr>\n",
              "    <tr>\n",
              "      <th>1</th>\n",
              "      <td>0.6750</td>\n",
              "      <td>80</td>\n",
              "      <td>534.0</td>\n",
              "      <td>11</td>\n",
              "      <td>1</td>\n",
              "      <td>True</td>\n",
              "      <td>0.698</td>\n",
              "    </tr>\n",
              "    <tr>\n",
              "      <th>2</th>\n",
              "      <td>0.6250</td>\n",
              "      <td>82</td>\n",
              "      <td>728.0</td>\n",
              "      <td>11</td>\n",
              "      <td>1</td>\n",
              "      <td>True</td>\n",
              "      <td>1.312</td>\n",
              "    </tr>\n",
              "    <tr>\n",
              "      <th>3</th>\n",
              "      <td>0.7000</td>\n",
              "      <td>60</td>\n",
              "      <td>1128.0</td>\n",
              "      <td>11</td>\n",
              "      <td>1</td>\n",
              "      <td>True</td>\n",
              "      <td>2.122</td>\n",
              "    </tr>\n",
              "    <tr>\n",
              "      <th>4</th>\n",
              "      <td>0.6500</td>\n",
              "      <td>78</td>\n",
              "      <td>475.0</td>\n",
              "      <td>11</td>\n",
              "      <td>1</td>\n",
              "      <td>True</td>\n",
              "      <td>3.310</td>\n",
              "    </tr>\n",
              "  </tbody>\n",
              "</table>\n",
              "</div>"
            ],
            "text/plain": [
              "       NP  HT      FT  SessionID  SubjectID  Class   Time\n",
              "0  0.6125  65   633.0         11          1   True  0.000\n",
              "1  0.6750  80   534.0         11          1   True  0.698\n",
              "2  0.6250  82   728.0         11          1   True  1.312\n",
              "3  0.7000  60  1128.0         11          1   True  2.122\n",
              "4  0.6500  78   475.0         11          1   True  3.310"
            ]
          },
          "metadata": {
            "tags": []
          },
          "execution_count": 5
        }
      ]
    },
    {
      "cell_type": "code",
      "metadata": {
        "id": "Y_P9fNoWctIa"
      },
      "source": [
        "df_feat = df_feat.drop(df_feat[(df_feat.SubjectID ==26) & (df_feat.SessionID == 11)].index)\n",
        "df_feat = df_feat.drop(df_feat[(df_feat.SubjectID ==32) & (df_feat.SessionID == 5)].index)\n",
        "df_feat = df_feat.drop(df_feat[(df_feat.SubjectID ==16)].index)"
      ],
      "execution_count": null,
      "outputs": []
    },
    {
      "cell_type": "code",
      "metadata": {
        "id": "tLxiCnkdK32o"
      },
      "source": [
        "class RawFeaturesCleaner:\n",
        "  # We are setting the defaults to what we observed and recommended in the\n",
        "  # exploration steps detailed in `02_loading_and_exploring.ipynb`\n",
        "  UNWANTED_COLUMNS = ['date','timestamp','flight_time']\n",
        "  HOLD_TIME_OUTLIER_THRESHOLD = 1000\n",
        "  MINIMUM_OBSERVATIONS_PER_USER = 1000\n",
        "  EXCLUDE_HIGH_IMPACT_CLASSES = ['Medium', 'Severe']\n",
        "  EXCLUDE_USERS_TAKING = []\n",
        "  \n",
        "  def __init__(self, options={}):\n",
        "    self.unwanted_columns = self.UNWANTED_COLUMNS\n",
        "    self.hold_time_outlier_threshold = self.HOLD_TIME_OUTLIER_THRESHOLD\n",
        "    self.minimum_observations_per_user = self.MINIMUM_OBSERVATIONS_PER_USER\n",
        "    self.exclude_high_impact_classes = self.EXCLUDE_HIGH_IMPACT_CLASSES\n",
        "    self.exclude_users_taking = self.EXCLUDE_USERS_TAKING\n",
        "    \n",
        "    if 'unwanted_columns' in options:\n",
        "      self.unwanted_columns = options['unwanted_columns']\n",
        "    if 'hold_time_outlier_threshold' in options:\n",
        "      self.hold_time_outlier_threshold = options['hold_time_outlier_threshold']\n",
        "    if 'minimum_observations_per_user' in options:\n",
        "      self.minimum_observations_per_user = options['minimum_observations_per_user']\n",
        "    if 'exclude_high_impact_classes' in options:\n",
        "      self.exclude_high_impact_classes = options['exclude_high_impact_classes']\n",
        "    if 'exclude_users_taking' in options:\n",
        "      self.exclude_users_taking = options['exclude_users_taking']\n",
        "  \n",
        "  def discard_subject(self, df):\n",
        "    indexes = df[df.SubjectID == 16].index\n",
        "    df.drop(indexes, inplace=True)\n",
        "    return self\n",
        "\n",
        "  \n",
        "  def discard_hold_time_outliers(self, df):\n",
        "    indexes = df[df.HT > self.hold_time_outlier_threshold].index\n",
        "    df.drop(indexes, inplace=True)\n",
        "    return self\n",
        "  "
      ],
      "execution_count": null,
      "outputs": []
    },
    {
      "cell_type": "code",
      "metadata": {
        "id": "wHR7uBEaK32p",
        "colab": {
          "base_uri": "https://localhost:8080/",
          "height": 221
        },
        "outputId": "68870e2d-4e9b-4abb-b3bc-b4bd2c0c5dc8"
      },
      "source": [
        "cleaner = RawFeaturesCleaner()\n",
        "# We don't want to deal with hold time higher than 1 second\n",
        "cleaner.discard_hold_time_outliers(df_feat)\n",
        "\n",
        "cleaner.discard_subject(df_feat)\n",
        "\n",
        "# for the initial cleanup)\n",
        "print(f'Number of users: {df_feat.SubjectID.nunique()}')\n",
        "df.head()"
      ],
      "execution_count": null,
      "outputs": [
        {
          "output_type": "stream",
          "text": [
            "Number of users: 32\n"
          ],
          "name": "stdout"
        },
        {
          "output_type": "execute_result",
          "data": {
            "text/html": [
              "<div>\n",
              "<style scoped>\n",
              "    .dataframe tbody tr th:only-of-type {\n",
              "        vertical-align: middle;\n",
              "    }\n",
              "\n",
              "    .dataframe tbody tr th {\n",
              "        vertical-align: top;\n",
              "    }\n",
              "\n",
              "    .dataframe thead th {\n",
              "        text-align: right;\n",
              "    }\n",
              "</style>\n",
              "<table border=\"1\" class=\"dataframe\">\n",
              "  <thead>\n",
              "    <tr style=\"text-align: right;\">\n",
              "      <th></th>\n",
              "      <th>PressTime</th>\n",
              "      <th>ReleaseTime</th>\n",
              "      <th>Pressure</th>\n",
              "      <th>SessionID</th>\n",
              "      <th>SubjectID</th>\n",
              "      <th>Class</th>\n",
              "      <th>Time</th>\n",
              "    </tr>\n",
              "  </thead>\n",
              "  <tbody>\n",
              "    <tr>\n",
              "      <th>0</th>\n",
              "      <td>17659554</td>\n",
              "      <td>17659619</td>\n",
              "      <td>0.6125</td>\n",
              "      <td>11</td>\n",
              "      <td>1</td>\n",
              "      <td>True</td>\n",
              "      <td>0.000</td>\n",
              "    </tr>\n",
              "    <tr>\n",
              "      <th>1</th>\n",
              "      <td>17660252</td>\n",
              "      <td>17660332</td>\n",
              "      <td>0.6750</td>\n",
              "      <td>11</td>\n",
              "      <td>1</td>\n",
              "      <td>True</td>\n",
              "      <td>0.698</td>\n",
              "    </tr>\n",
              "    <tr>\n",
              "      <th>2</th>\n",
              "      <td>17660866</td>\n",
              "      <td>17660948</td>\n",
              "      <td>0.6250</td>\n",
              "      <td>11</td>\n",
              "      <td>1</td>\n",
              "      <td>True</td>\n",
              "      <td>1.312</td>\n",
              "    </tr>\n",
              "    <tr>\n",
              "      <th>3</th>\n",
              "      <td>17661676</td>\n",
              "      <td>17661736</td>\n",
              "      <td>0.7000</td>\n",
              "      <td>11</td>\n",
              "      <td>1</td>\n",
              "      <td>True</td>\n",
              "      <td>2.122</td>\n",
              "    </tr>\n",
              "    <tr>\n",
              "      <th>4</th>\n",
              "      <td>17662864</td>\n",
              "      <td>17662942</td>\n",
              "      <td>0.6500</td>\n",
              "      <td>11</td>\n",
              "      <td>1</td>\n",
              "      <td>True</td>\n",
              "      <td>3.310</td>\n",
              "    </tr>\n",
              "  </tbody>\n",
              "</table>\n",
              "</div>"
            ],
            "text/plain": [
              "   PressTime  ReleaseTime  Pressure  SessionID  SubjectID  Class   Time\n",
              "0   17659554     17659619    0.6125         11          1   True  0.000\n",
              "1   17660252     17660332    0.6750         11          1   True  0.698\n",
              "2   17660866     17660948    0.6250         11          1   True  1.312\n",
              "3   17661676     17661736    0.7000         11          1   True  2.122\n",
              "4   17662864     17662942    0.6500         11          1   True  3.310"
            ]
          },
          "metadata": {
            "tags": []
          },
          "execution_count": 8
        }
      ]
    },
    {
      "cell_type": "code",
      "metadata": {
        "colab": {
          "base_uri": "https://localhost:8080/",
          "height": 641
        },
        "id": "eD85ykuF1cS1",
        "outputId": "c6c184f6-dc8a-4736-f314-496c75c5b6d9"
      },
      "source": [
        "def filter_column_by_quantile(df, column, threshold):\n",
        "    len_before = len(df)\n",
        "    df = df[df[column] < np.percentile(df[column], threshold)]\n",
        "    len_after = len(df)\n",
        "    print(\"Filtered out {} rows with outliers in column '{}'\".format((len_before - len_after), column))\n",
        "    return df\n",
        "\n",
        "\n",
        "def plot_percentiles_of_column(df, col, start, end, bins):\n",
        "    X = np.linspace(start, end, bins)\n",
        "    Y = [np.percentile(df[col], x) for x in X]\n",
        "    plt.plot(X, Y)\n",
        "    plt.title(col + \" Percentiles\")\n",
        "    plt.xlabel(\"Percent\")\n",
        "    plt.ylabel(\"Percentile Value\")\n",
        "    plt.show()\n",
        "\n",
        "    \n",
        "# Filter out outliers of HoldTime:\n",
        "plot_percentiles_of_column(df_feat, 'HT', 99.96, 99.9999, 20)\n",
        "print(\"After the percentile 99.990 we see significantly higher values, which are definitely outliers.\")\n",
        "df_feat = filter_column_by_quantile(df_feat, 'HT', 99.990)\n",
        "\n",
        "# Filter out outliers of Fligth:\n",
        "plot_percentiles_of_column(df_feat, 'FT', 99.96, 99.9999, 20)\n",
        "print(\"After the percentile 99.990 we see significantly higher values, which are definitely outliers.\")\n",
        "df_feat = filter_column_by_quantile(df_feat, 'FT', 99.990)"
      ],
      "execution_count": null,
      "outputs": [
        {
          "output_type": "display_data",
          "data": {
            "image/png": "[encoded data removed]",
            "text/plain": [
              "<Figure size 432x288 with 1 Axes>"
            ]
          },
          "metadata": {
            "tags": [],
            "needs_background": "light"
          }
        },
        {
          "output_type": "stream",
          "text": [
            "After the percentile 99.990 we see significantly higher values, which are definitely outliers.\n",
            "Filtered out 3 rows with outliers in column 'HT'\n"
          ],
          "name": "stdout"
        },
        {
          "output_type": "display_data",
          "data": {
            "image/png": "[encoded data removed]",
            "text/plain": [
              "<Figure size 432x288 with 1 Axes>"
            ]
          },
          "metadata": {
            "tags": [],
            "needs_background": "light"
          }
        },
        {
          "output_type": "stream",
          "text": [
            "After the percentile 99.990 we see significantly higher values, which are definitely outliers.\n",
            "Filtered out 3 rows with outliers in column 'FT'\n"
          ],
          "name": "stdout"
        }
      ]
    },
    {
      "cell_type": "code",
      "metadata": {
        "id": "SkCFqmLrZgtF"
      },
      "source": [
        "df_nft.to_csv(\"/content/gdrive/MyDrive/TFM/df_nft.csv\")"
      ],
      "execution_count": null,
      "outputs": []
    },
    {
      "cell_type": "code",
      "metadata": {
        "colab": {
          "base_uri": "https://localhost:8080/",
          "height": 419
        },
        "id": "CsXm_Agm1cS2",
        "outputId": "e68d6631-8bf1-4880-9c7c-5a0d76150812"
      },
      "source": [
        "#NFT Normalization (Iakovakis19)\n",
        "df_nft = pd.DataFrame()\n",
        "df_nft = df_feat\n",
        "\n",
        "df_nft = df_nft.drop(df_nft[(df_nft['FT'] > 3000)].index) #more than 3 seconds \n",
        "df_nft['NFT']=(df_nft.FT-df_nft.groupby([\"SubjectID\",\"SessionID\"]).FT.transform('mean'))#\n",
        "df_nft = df_nft.drop(df_nft[((df_nft['NFT'] > 1700) | (df_nft['NFT'] < -1270))].index) #conditional filtering step. \n",
        "df_nft"
      ],
      "execution_count": null,
      "outputs": [
        {
          "output_type": "execute_result",
          "data": {
            "text/html": [
              "<div>\n",
              "<style scoped>\n",
              "    .dataframe tbody tr th:only-of-type {\n",
              "        vertical-align: middle;\n",
              "    }\n",
              "\n",
              "    .dataframe tbody tr th {\n",
              "        vertical-align: top;\n",
              "    }\n",
              "\n",
              "    .dataframe thead th {\n",
              "        text-align: right;\n",
              "    }\n",
              "</style>\n",
              "<table border=\"1\" class=\"dataframe\">\n",
              "  <thead>\n",
              "    <tr style=\"text-align: right;\">\n",
              "      <th></th>\n",
              "      <th>NP</th>\n",
              "      <th>HT</th>\n",
              "      <th>FT</th>\n",
              "      <th>SessionID</th>\n",
              "      <th>SubjectID</th>\n",
              "      <th>Class</th>\n",
              "      <th>Time</th>\n",
              "      <th>NFT</th>\n",
              "    </tr>\n",
              "  </thead>\n",
              "  <tbody>\n",
              "    <tr>\n",
              "      <th>55</th>\n",
              "      <td>0.5875</td>\n",
              "      <td>71</td>\n",
              "      <td>842.0</td>\n",
              "      <td>3</td>\n",
              "      <td>1</td>\n",
              "      <td>True</td>\n",
              "      <td>0.000</td>\n",
              "      <td>-153.759259</td>\n",
              "    </tr>\n",
              "    <tr>\n",
              "      <th>56</th>\n",
              "      <td>0.5750</td>\n",
              "      <td>80</td>\n",
              "      <td>1268.0</td>\n",
              "      <td>3</td>\n",
              "      <td>1</td>\n",
              "      <td>True</td>\n",
              "      <td>0.913</td>\n",
              "      <td>272.240741</td>\n",
              "    </tr>\n",
              "    <tr>\n",
              "      <th>57</th>\n",
              "      <td>0.6250</td>\n",
              "      <td>78</td>\n",
              "      <td>558.0</td>\n",
              "      <td>3</td>\n",
              "      <td>1</td>\n",
              "      <td>True</td>\n",
              "      <td>2.261</td>\n",
              "      <td>-437.759259</td>\n",
              "    </tr>\n",
              "    <tr>\n",
              "      <th>58</th>\n",
              "      <td>0.6125</td>\n",
              "      <td>99</td>\n",
              "      <td>897.0</td>\n",
              "      <td>3</td>\n",
              "      <td>1</td>\n",
              "      <td>True</td>\n",
              "      <td>2.897</td>\n",
              "      <td>-98.759259</td>\n",
              "    </tr>\n",
              "    <tr>\n",
              "      <th>59</th>\n",
              "      <td>0.7125</td>\n",
              "      <td>115</td>\n",
              "      <td>1989.0</td>\n",
              "      <td>3</td>\n",
              "      <td>1</td>\n",
              "      <td>True</td>\n",
              "      <td>3.893</td>\n",
              "      <td>993.240741</td>\n",
              "    </tr>\n",
              "    <tr>\n",
              "      <th>...</th>\n",
              "      <td>...</td>\n",
              "      <td>...</td>\n",
              "      <td>...</td>\n",
              "      <td>...</td>\n",
              "      <td>...</td>\n",
              "      <td>...</td>\n",
              "      <td>...</td>\n",
              "      <td>...</td>\n",
              "    </tr>\n",
              "    <tr>\n",
              "      <th>26230</th>\n",
              "      <td>0.4375</td>\n",
              "      <td>74</td>\n",
              "      <td>116.0</td>\n",
              "      <td>6</td>\n",
              "      <td>33</td>\n",
              "      <td>False</td>\n",
              "      <td>33.219</td>\n",
              "      <td>1285.352273</td>\n",
              "    </tr>\n",
              "    <tr>\n",
              "      <th>26231</th>\n",
              "      <td>0.6500</td>\n",
              "      <td>82</td>\n",
              "      <td>259.0</td>\n",
              "      <td>6</td>\n",
              "      <td>33</td>\n",
              "      <td>False</td>\n",
              "      <td>33.409</td>\n",
              "      <td>1428.352273</td>\n",
              "    </tr>\n",
              "    <tr>\n",
              "      <th>26232</th>\n",
              "      <td>0.7500</td>\n",
              "      <td>49</td>\n",
              "      <td>318.0</td>\n",
              "      <td>6</td>\n",
              "      <td>33</td>\n",
              "      <td>False</td>\n",
              "      <td>33.750</td>\n",
              "      <td>1487.352273</td>\n",
              "    </tr>\n",
              "    <tr>\n",
              "      <th>26233</th>\n",
              "      <td>0.7000</td>\n",
              "      <td>64</td>\n",
              "      <td>151.0</td>\n",
              "      <td>6</td>\n",
              "      <td>33</td>\n",
              "      <td>False</td>\n",
              "      <td>34.117</td>\n",
              "      <td>1320.352273</td>\n",
              "    </tr>\n",
              "    <tr>\n",
              "      <th>26234</th>\n",
              "      <td>0.6750</td>\n",
              "      <td>48</td>\n",
              "      <td>227.0</td>\n",
              "      <td>6</td>\n",
              "      <td>33</td>\n",
              "      <td>False</td>\n",
              "      <td>34.332</td>\n",
              "      <td>1396.352273</td>\n",
              "    </tr>\n",
              "  </tbody>\n",
              "</table>\n",
              "<p>14151 rows × 8 columns</p>\n",
              "</div>"
            ],
            "text/plain": [
              "           NP   HT      FT  SessionID  SubjectID  Class    Time          NFT\n",
              "55     0.5875   71   842.0          3          1   True   0.000  -153.759259\n",
              "56     0.5750   80  1268.0          3          1   True   0.913   272.240741\n",
              "57     0.6250   78   558.0          3          1   True   2.261  -437.759259\n",
              "58     0.6125   99   897.0          3          1   True   2.897   -98.759259\n",
              "59     0.7125  115  1989.0          3          1   True   3.893   993.240741\n",
              "...       ...  ...     ...        ...        ...    ...     ...          ...\n",
              "26230  0.4375   74   116.0          6         33  False  33.219  1285.352273\n",
              "26231  0.6500   82   259.0          6         33  False  33.409  1428.352273\n",
              "26232  0.7500   49   318.0          6         33  False  33.750  1487.352273\n",
              "26233  0.7000   64   151.0          6         33  False  34.117  1320.352273\n",
              "26234  0.6750   48   227.0          6         33  False  34.332  1396.352273\n",
              "\n",
              "[14151 rows x 8 columns]"
            ]
          },
          "metadata": {
            "tags": []
          },
          "execution_count": 10
        }
      ]
    },
    {
      "cell_type": "code",
      "metadata": {
        "id": "RCF31xBD1cS2"
      },
      "source": [
        "#df_feat.to_csv(\"/Users/mariabaeza/Desktop/Universidad/BigData/TFM/data_feat.csv\")"
      ],
      "execution_count": null,
      "outputs": []
    },
    {
      "cell_type": "code",
      "metadata": {
        "id": "dYB-yW2l1cS2",
        "colab": {
          "base_uri": "https://localhost:8080/",
          "height": 517
        },
        "outputId": "066fdc51-aa45-4b5f-e3c7-bf26882f1a27"
      },
      "source": [
        "holdTimeCounters = df_feat.groupby(['HT']).HT.count().sort_values()\n",
        "print(\"10 most common values in 'HoldTime' and their count:\\n\")\n",
        "print(holdTimeCounters.tail(10))\n",
        "hist = holdTimeCounters.hist(bins=100).set(xlabel=\"Count of occurrences of a 'HoldTime' value\", ylabel=\"Count of unique values\")"
      ],
      "execution_count": null,
      "outputs": [
        {
          "output_type": "stream",
          "text": [
            "10 most common values in 'HoldTime' and their count:\n",
            "\n",
            "HT\n",
            "65     362\n",
            "74     384\n",
            "91     385\n",
            "115    398\n",
            "124    414\n",
            "98     427\n",
            "82     448\n",
            "99     448\n",
            "107    467\n",
            "90     479\n",
            "Name: HT, dtype: int64\n"
          ],
          "name": "stdout"
        },
        {
          "output_type": "display_data",
          "data": {
            "image/png": "[encoded data removed]",
            "text/plain": [
              "<Figure size 432x288 with 1 Axes>"
            ]
          },
          "metadata": {
            "tags": [],
            "needs_background": "light"
          }
        }
      ]
    },
    {
      "cell_type": "markdown",
      "metadata": {
        "id": "abK4y-Vkw_iN"
      },
      "source": [
        "SAVE PREPROCESSING"
      ]
    },
    {
      "cell_type": "code",
      "metadata": {
        "id": "7LiFIqoqw9EP"
      },
      "source": [
        "import pickle\n",
        "os.chdir(\"/content/gdrive/MyDrive/TFM\")\n",
        "#os.chdir(\"/Users/mariabaeza/Desktop/Universidad/BigData/TFM\")\n",
        "# Saving the objects:\n",
        "with open('preprocessing.pkl', 'wb') as f:  # Python 3: open(..., 'wb')\n",
        "    pickle.dump([df_feat, df_nft, df, pd_patients], f)\n",
        "\n"
      ],
      "execution_count": null,
      "outputs": []
    },
    {
      "cell_type": "code",
      "metadata": {
        "id": "tr-kQFyByAWF"
      },
      "source": [
        "# Getting back the objects:\n",
        "with open('preprocessing.pkl', 'rb') as f:  # Python 3: open(..., 'rb')\n",
        "    df_feat, df_nft, df, pd_patients = pickle.load(f)"
      ],
      "execution_count": null,
      "outputs": []
    }
  ]
}