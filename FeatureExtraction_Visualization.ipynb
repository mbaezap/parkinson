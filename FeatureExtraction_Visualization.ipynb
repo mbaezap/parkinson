{
  "nbformat": 4,
  "nbformat_minor": 0,
  "metadata": {
    "colab": {
      "name": "FeatureExtraction_Visualization.ipynb",
      "provenance": [],
      "collapsed_sections": []
    },
    "kernelspec": {
      "display_name": "Python 3",
      "language": "python",
      "name": "python3"
    },
    "language_info": {
      "codemirror_mode": {
        "name": "ipython",
        "version": 3
      },
      "file_extension": ".py",
      "mimetype": "text/x-python",
      "name": "python",
      "nbconvert_exporter": "python",
      "pygments_lexer": "ipython3",
      "version": "3.8.5"
    }
  },
  "cells": [
    {
      "cell_type": "code",
      "metadata": {
        "id": "whyenOd61cSy",
        "colab": {
          "base_uri": "https://localhost:8080/"
        },
        "outputId": "a69c8aa8-e955-4708-8848-35c5dc0ab78c"
      },
      "source": [
        "import pandas as pd \n",
        "import numpy as np\n",
        "import os\n",
        "from os import walk\n",
        "import statistics\n",
        "from matplotlib import pyplot as pt\n",
        "from scipy.stats import kurtosis\n",
        "from scipy.stats import skew\n",
        "from scipy.stats import mannwhitneyu\n",
        "import math \n",
        "from scipy.stats import spearmanr\n",
        "import warnings\n",
        "warnings.filterwarnings('ignore')\n",
        "import plotly.graph_objects as go\n",
        "from tqdm.notebook import tqdm\n",
        "%matplotlib inline\n",
        "from matplotlib import pyplot as plt\n",
        "from google.colab import drive\n",
        "\n",
        "drive.mount('/content/gdrive')\n",
        "import pickle\n",
        "os.chdir(\"/content/gdrive/MyDrive/TFM\")\n",
        "import seaborn as sns"
      ],
      "execution_count": 21,
      "outputs": [
        {
          "output_type": "stream",
          "name": "stdout",
          "text": [
            "Drive already mounted at /content/gdrive; to attempt to forcibly remount, call drive.mount(\"/content/gdrive\", force_remount=True).\n"
          ]
        }
      ]
    },
    {
      "cell_type": "markdown",
      "metadata": {
        "id": "abK4y-Vkw_iN"
      },
      "source": [
        "### LOAD PREPROCESSING"
      ]
    },
    {
      "cell_type": "code",
      "metadata": {
        "id": "tr-kQFyByAWF"
      },
      "source": [
        "# Getting back the objects:\n",
        "with open('preprocessing.pkl', 'rb') as f:  # Python 3: open(..., 'rb')\n",
        "    df_feat, df_nft, df, pd_patients = pickle.load(f)"
      ],
      "execution_count": 4,
      "outputs": []
    },
    {
      "cell_type": "code",
      "metadata": {
        "colab": {
          "base_uri": "https://localhost:8080/",
          "height": 318
        },
        "id": "C_U1Sy2G1cS2",
        "outputId": "5e09e1a4-b72f-464b-aafd-546210b5da85"
      },
      "source": [
        "df_feat.groupby([\"SubjectID\",\"SessionID\"]).mean().boxplot(column=['HT'],by=\"Class\" )"
      ],
      "execution_count": 5,
      "outputs": [
        {
          "output_type": "execute_result",
          "data": {
            "text/plain": [
              "<matplotlib.axes._subplots.AxesSubplot at 0x7f72f4496fd0>"
            ]
          },
          "metadata": {},
          "execution_count": 5
        },
        {
          "output_type": "display_data",
          "data": {
            "image/png": "[encoded data removed]",
            "text/plain": [
              "<Figure size 432x288 with 1 Axes>"
            ]
          },
          "metadata": {
            "needs_background": "light"
          }
        }
      ]
    },
    {
      "cell_type": "code",
      "metadata": {
        "colab": {
          "base_uri": "https://localhost:8080/",
          "height": 318
        },
        "id": "R6dAz3Tg1cS3",
        "outputId": "c19a48a9-15f5-4c6f-ab58-8826963e7155"
      },
      "source": [
        "df_feat.groupby([\"SubjectID\",\"SessionID\"]).mean().boxplot(column=['NP'],by=\"Class\")"
      ],
      "execution_count": 6,
      "outputs": [
        {
          "output_type": "execute_result",
          "data": {
            "text/plain": [
              "<matplotlib.axes._subplots.AxesSubplot at 0x7f72f44f6190>"
            ]
          },
          "metadata": {},
          "execution_count": 6
        },
        {
          "output_type": "display_data",
          "data": {
            "image/png": "[encoded data removed]",
            "text/plain": [
              "<Figure size 432x288 with 1 Axes>"
            ]
          },
          "metadata": {
            "needs_background": "light"
          }
        }
      ]
    },
    {
      "cell_type": "code",
      "metadata": {
        "id": "0uv4kIlnpcsC"
      },
      "source": [
        "df_nft = df_nft.drop(df_nft[(df_nft.SubjectID ==26) & (df_nft.SessionID == 11)].index)\n",
        "df_nft = df_nft.drop(df_nft[(df_nft.SubjectID ==32) & (df_nft.SessionID == 5)].index)\n",
        "df_nft = df_nft.drop(df_nft[(df_nft.SubjectID ==16)].index)"
      ],
      "execution_count": 7,
      "outputs": []
    },
    {
      "cell_type": "code",
      "metadata": {
        "colab": {
          "base_uri": "https://localhost:8080/",
          "height": 298
        },
        "id": "Il9iR5Od1cS3",
        "outputId": "cac4597c-5b25-4cc4-a1a9-db46488c5afb"
      },
      "source": [
        "SUBJECT = 2\n",
        "time_1 = df_nft.loc[(df_nft.SubjectID == SUBJECT) & (df_nft.SessionID ==1)].Time\n",
        "NP_1 = df_nft.loc[(df_nft.SubjectID == SUBJECT) & (df_nft.SessionID ==1)].HT/1000\n",
        "time_2 = df_nft.loc[(df_nft.SubjectID == SUBJECT) & (df_nft.SessionID ==2)].Time\n",
        "NP_2 = df_nft.loc[(df_nft.SubjectID == SUBJECT) & (df_nft.SessionID ==2)].HT/1000\n",
        "time_3 = df_nft.loc[(df_nft.SubjectID == SUBJECT) & (df_nft.SessionID ==3)].Time\n",
        "NP_3 = df_nft.loc[(df_nft.SubjectID == SUBJECT) & (df_nft.SessionID ==3)].HT/1000\n",
        "pt.figure(num=None, figsize=(2, 3), facecolor='w', edgecolor='k')\n",
        "fig, (ax1, ax2, ax3) = plt.subplots(1, 3)\n",
        "ax1.set_ylim((0,0.5))\n",
        "ax2.set_ylim((0,0.5))\n",
        "ax3.set_ylim((0,0.5))\n",
        "ax1.grid()\n",
        "ax2.grid()\n",
        "ax3.grid()\n",
        "ax1.plot(time_1, NP_1,'bo', c = 'b')\n",
        "ax1.set_title(\"S1\")\n",
        "ax2.plot(time_2, NP_2,'bo', c = 'b')\n",
        "ax2.set_title(\"S2\")\n",
        "ax3.plot(time_3, NP_3,'bo', c = 'b')\n",
        "ax3.set_title(\"S3\")\n",
        "\n",
        "ax3.label_outer()\n",
        "ax2.label_outer()\n",
        "plt.savefig('/content/gdrive/MyDrive/TFM/PD_HT.eps', format='eps')\n",
        "\n"
      ],
      "execution_count": 8,
      "outputs": [
        {
          "output_type": "display_data",
          "data": {
            "text/plain": [
              "<Figure size 144x216 with 0 Axes>"
            ]
          },
          "metadata": {}
        },
        {
          "output_type": "display_data",
          "data": {
            "image/png": "[encoded data removed]",
            "text/plain": [
              "<Figure size 432x288 with 3 Axes>"
            ]
          },
          "metadata": {
            "needs_background": "light"
          }
        }
      ]
    },
    {
      "cell_type": "code",
      "metadata": {
        "colab": {
          "base_uri": "https://localhost:8080/",
          "height": 229
        },
        "id": "MPsghObIp5Ge",
        "outputId": "6247e987-3eea-4339-e481-0849653ecac6"
      },
      "source": [
        "import seaborn as sns\n",
        "plt.figure(num=None, figsize=(3, 3),facecolor='w', edgecolor='k')\n",
        "sns.distplot(NP_1, hist=False, kde=True, \n",
        "             bins=int(180/5), color = 'b', \n",
        "             kde_kws={'linewidth': 1})\n",
        "sns.distplot(NP_2, hist=False, kde=True, \n",
        "             bins=int(180/5), color = 'b', \n",
        "             kde_kws={'linewidth': 1})\n",
        "sns.distplot(NP_3, hist=False, kde=True, \n",
        "             bins=int(180/5), color = 'b', \n",
        "             kde_kws={'linewidth': 1})\n",
        "plt.ylim((0,30))\n",
        "plt.grid()\n",
        "plt.savefig('/content/gdrive/MyDrive/TFM/PD_HT_density.eps', format='eps')"
      ],
      "execution_count": 9,
      "outputs": [
        {
          "output_type": "display_data",
          "data": {
            "image/png": "[encoded data removed]",
            "text/plain": [
              "<Figure size 216x216 with 1 Axes>"
            ]
          },
          "metadata": {}
        }
      ]
    },
    {
      "cell_type": "code",
      "metadata": {
        "colab": {
          "base_uri": "https://localhost:8080/",
          "height": 279
        },
        "id": "-BWBfpsk1cS3",
        "outputId": "aff8f6cf-26a6-4c30-b37f-41df729d6f20"
      },
      "source": [
        "sns.boxplot(x=df_nft[\"Class\"], y=df_nft[\"NFT\"] )\n",
        "plt.savefig('/content/gdrive/MyDrive/TFM/NFT_box.eps', format='eps')"
      ],
      "execution_count": 10,
      "outputs": [
        {
          "output_type": "display_data",
          "data": {
            "image/png": "[encoded data removed]",
            "text/plain": [
              "<Figure size 432x288 with 1 Axes>"
            ]
          },
          "metadata": {
            "needs_background": "light"
          }
        }
      ]
    },
    {
      "cell_type": "code",
      "metadata": {
        "id": "i1cTuZI_1cS4"
      },
      "source": [
        "def class_def(element):\n",
        "    label=0\n",
        "    if element in pd_patients:\n",
        "        label=1\n",
        "    return label\n",
        "\n",
        "def obtain_stats(input_df, variable,min_elem):\n",
        "    df = pd.DataFrame()\n",
        "    prev_subject = 0\n",
        "    prev_session = 0\n",
        "    name_variable= input_df.columns[variable]\n",
        "    window_time = 15 #CAN BE CHANGED\n",
        "    first_index = []\n",
        "    for subject, session in input_df.groupby([\"SubjectID\",\"SessionID\"]): \n",
        "        iterkey_new = session.iterrows()\n",
        "        n=0\n",
        "        window = []\n",
        "        for index, row in iterkey_new:\n",
        "            if row.SubjectID != prev_subject or row.SessionID != prev_session:\n",
        "                first_index = index\n",
        "                prev_subject = row.SubjectID\n",
        "                prev_session = row.SessionID\n",
        "            \n",
        "            if (input_df.loc[index].Time<window_time*(n+1)+input_df.loc[first_index].Time) and (input_df.loc[index].Time>=window_time*(n)+input_df.loc[first_index].Time):\n",
        "                if math.isnan(input_df.loc[index].iloc[variable])==0:\n",
        "                    window.append(input_df.loc[index].iloc[variable])\n",
        "            else:\n",
        "                if len(window)>=min_elem:\n",
        "                    data = {'Mean': statistics.mean(window), 'Median': statistics.median(window), 'SD': np.std(window),'Skewness': skew(window),'Kurtosis': kurtosis(window),'SessionID': row.SessionID , 'SubjectID': row.SubjectID}\n",
        "                    df = df.append(pd.DataFrame(data, columns = [\"Mean\",\"Median\",\"SD\",\"Skewness\",\"Kurtosis\",\"SessionID\",\"SubjectID\"] , index=[0]))\n",
        "                window = []\n",
        "                window.append(input_df.loc[index].iloc[variable])\n",
        "                n += 1\n",
        "        if len(window)>=min_elem:\n",
        "            data = {'Mean': statistics.mean(window), 'Median': statistics.median(window), 'SD': np.std(window),'Skewness': skew(window),'Kurtosis': kurtosis(window),'SessionID': row.SessionID , 'SubjectID': row.SubjectID}\n",
        "            df = df.append(pd.DataFrame(data, columns = [\"Mean\",\"Median\",\"SD\",\"Skewness\",\"Kurtosis\",\"SessionID\",\"SubjectID\"] , index=[0]))\n",
        "    \n",
        "    df_session_mean = df.groupby([\"SubjectID\",\"SessionID\"]).mean()\n",
        "    df_session_std = df.groupby([\"SubjectID\",\"SessionID\"]).std()\n",
        "    df_session_mean.columns = [name_variable+\" Mean\",name_variable+\" Median\",name_variable+\" SD\",name_variable+\" Skewness\",name_variable+\" Kurtosis\"]\n",
        "    df_session_std.columns = [name_variable+\" SD Mean\",name_variable+\" SD Median\",name_variable+\" SD SD\",name_variable+\" SD Skewness\",name_variable+\" SD Kurtosis\"]\n",
        "    df_session = pd.concat([df_session_mean, df_session_std], axis=1)\n",
        "    df_session['Class'] = np.zeros(len(df_session))\n",
        "    df_session['Class']= list(map(class_def, df_session.index.get_level_values('SubjectID').values))\n",
        "    return df_session"
      ],
      "execution_count": 11,
      "outputs": []
    },
    {
      "cell_type": "code",
      "metadata": {
        "id": "hB8bck_J1cS4"
      },
      "source": [
        "df_NFT = obtain_stats(df_nft,7,1)\n"
      ],
      "execution_count": 12,
      "outputs": []
    },
    {
      "cell_type": "code",
      "metadata": {
        "id": "2ad_T8gcenT_"
      },
      "source": [
        "df_NFT.to_csv(\"/content/gdrive/MyDrive/TFM/df_NFT.csv\")"
      ],
      "execution_count": null,
      "outputs": []
    },
    {
      "cell_type": "code",
      "metadata": {
        "id": "MQ74FThl1cS4"
      },
      "source": [
        "df_NP = obtain_stats(df_feat,0,2)\n",
        "df_HT = obtain_stats(df_feat,1,2)"
      ],
      "execution_count": 13,
      "outputs": []
    },
    {
      "cell_type": "code",
      "metadata": {
        "id": "4XFSS-ht1cS4"
      },
      "source": [
        "## Velocity and acceleration\n",
        "df_new = pd.DataFrame()\n",
        "count = 0\n",
        "for subject, session in df_feat.groupby([\"SubjectID\",\"SessionID\"]): \n",
        "    iterkey_new = session.iterrows()\n",
        "    n_elements = 5 #CAN BE CHANGED\n",
        "    size = 0\n",
        "    window_v = []\n",
        "    for index,row in iterkey_new: \n",
        "        if size==0:\n",
        "            time_begin = df_feat.loc[index].Time\n",
        "            size += 1\n",
        "        elif size < n_elements:\n",
        "            size += 1\n",
        "        else:\n",
        "            time_end = df_feat.loc[index].Time\n",
        "            size = 0\n",
        "            data_v = {'Velocity': n_elements/(time_end - time_begin), 'Acceleration': n_elements/(time_end - time_begin)**2,'Time': time_begin,'SessionID': row.SessionID , 'SubjectID': row.SubjectID}\n",
        "            df_new = df_new.append(pd.DataFrame(data_v, columns = [\"Velocity\",\"Acceleration\",\"Time\",\"SessionID\",\"SubjectID\"], index=[count]))\n",
        "            count+=1"
      ],
      "execution_count": 14,
      "outputs": []
    },
    {
      "cell_type": "code",
      "metadata": {
        "id": "ugOeSkIE1cS4"
      },
      "source": [
        "df_v = obtain_stats(df_new,0,1)\n",
        "df_a = obtain_stats(df_new,1,2)"
      ],
      "execution_count": 15,
      "outputs": []
    },
    {
      "cell_type": "code",
      "metadata": {
        "id": "e8tEgOQuK32w",
        "colab": {
          "base_uri": "https://localhost:8080/",
          "height": 504
        },
        "outputId": "2b54954e-0689-4e0e-959b-d4e4c0eb6c9d"
      },
      "source": [
        "df_v"
      ],
      "execution_count": 16,
      "outputs": [
        {
          "output_type": "execute_result",
          "data": {
            "text/html": [
              "<div>\n",
              "<style scoped>\n",
              "    .dataframe tbody tr th:only-of-type {\n",
              "        vertical-align: middle;\n",
              "    }\n",
              "\n",
              "    .dataframe tbody tr th {\n",
              "        vertical-align: top;\n",
              "    }\n",
              "\n",
              "    .dataframe thead th {\n",
              "        text-align: right;\n",
              "    }\n",
              "</style>\n",
              "<table border=\"1\" class=\"dataframe\">\n",
              "  <thead>\n",
              "    <tr style=\"text-align: right;\">\n",
              "      <th></th>\n",
              "      <th></th>\n",
              "      <th>Velocity Mean</th>\n",
              "      <th>Velocity Median</th>\n",
              "      <th>Velocity SD</th>\n",
              "      <th>Velocity Skewness</th>\n",
              "      <th>Velocity Kurtosis</th>\n",
              "      <th>Velocity SD Mean</th>\n",
              "      <th>Velocity SD Median</th>\n",
              "      <th>Velocity SD SD</th>\n",
              "      <th>Velocity SD Skewness</th>\n",
              "      <th>Velocity SD Kurtosis</th>\n",
              "      <th>Class</th>\n",
              "    </tr>\n",
              "    <tr>\n",
              "      <th>SubjectID</th>\n",
              "      <th>SessionID</th>\n",
              "      <th></th>\n",
              "      <th></th>\n",
              "      <th></th>\n",
              "      <th></th>\n",
              "      <th></th>\n",
              "      <th></th>\n",
              "      <th></th>\n",
              "      <th></th>\n",
              "      <th></th>\n",
              "      <th></th>\n",
              "      <th></th>\n",
              "    </tr>\n",
              "  </thead>\n",
              "  <tbody>\n",
              "    <tr>\n",
              "      <th rowspan=\"5\" valign=\"top\">1.0</th>\n",
              "      <th>1.0</th>\n",
              "      <td>0.773873</td>\n",
              "      <td>0.775275</td>\n",
              "      <td>0.076589</td>\n",
              "      <td>-0.004573</td>\n",
              "      <td>-2.277778</td>\n",
              "      <td>0.242000</td>\n",
              "      <td>0.237101</td>\n",
              "      <td>0.083631</td>\n",
              "      <td>0.228429</td>\n",
              "      <td>0.548319</td>\n",
              "      <td>1</td>\n",
              "    </tr>\n",
              "    <tr>\n",
              "      <th>2.0</th>\n",
              "      <td>0.914206</td>\n",
              "      <td>0.939612</td>\n",
              "      <td>0.104840</td>\n",
              "      <td>-0.286774</td>\n",
              "      <td>-2.074680</td>\n",
              "      <td>0.149391</td>\n",
              "      <td>0.158520</td>\n",
              "      <td>0.123303</td>\n",
              "      <td>0.371060</td>\n",
              "      <td>0.809142</td>\n",
              "      <td>1</td>\n",
              "    </tr>\n",
              "    <tr>\n",
              "      <th>3.0</th>\n",
              "      <td>0.767016</td>\n",
              "      <td>0.760267</td>\n",
              "      <td>0.060367</td>\n",
              "      <td>0.061829</td>\n",
              "      <td>-2.300000</td>\n",
              "      <td>0.310638</td>\n",
              "      <td>0.304365</td>\n",
              "      <td>0.070130</td>\n",
              "      <td>0.138254</td>\n",
              "      <td>0.670820</td>\n",
              "      <td>1</td>\n",
              "    </tr>\n",
              "    <tr>\n",
              "      <th>4.0</th>\n",
              "      <td>1.082144</td>\n",
              "      <td>1.088760</td>\n",
              "      <td>0.110426</td>\n",
              "      <td>-0.084649</td>\n",
              "      <td>-1.833333</td>\n",
              "      <td>0.235517</td>\n",
              "      <td>0.226581</td>\n",
              "      <td>0.019693</td>\n",
              "      <td>0.146616</td>\n",
              "      <td>0.288675</td>\n",
              "      <td>1</td>\n",
              "    </tr>\n",
              "    <tr>\n",
              "      <th>5.0</th>\n",
              "      <td>0.748542</td>\n",
              "      <td>0.732181</td>\n",
              "      <td>0.122656</td>\n",
              "      <td>0.073098</td>\n",
              "      <td>-2.300000</td>\n",
              "      <td>0.369835</td>\n",
              "      <td>0.356836</td>\n",
              "      <td>0.158699</td>\n",
              "      <td>0.163451</td>\n",
              "      <td>0.670820</td>\n",
              "      <td>1</td>\n",
              "    </tr>\n",
              "    <tr>\n",
              "      <th>...</th>\n",
              "      <th>...</th>\n",
              "      <td>...</td>\n",
              "      <td>...</td>\n",
              "      <td>...</td>\n",
              "      <td>...</td>\n",
              "      <td>...</td>\n",
              "      <td>...</td>\n",
              "      <td>...</td>\n",
              "      <td>...</td>\n",
              "      <td>...</td>\n",
              "      <td>...</td>\n",
              "      <td>...</td>\n",
              "    </tr>\n",
              "    <tr>\n",
              "      <th rowspan=\"5\" valign=\"top\">33.0</th>\n",
              "      <th>6.0</th>\n",
              "      <td>2.816752</td>\n",
              "      <td>2.879375</td>\n",
              "      <td>0.402024</td>\n",
              "      <td>-0.101508</td>\n",
              "      <td>-1.562704</td>\n",
              "      <td>0.430638</td>\n",
              "      <td>0.395391</td>\n",
              "      <td>0.183917</td>\n",
              "      <td>0.277711</td>\n",
              "      <td>0.381047</td>\n",
              "      <td>0</td>\n",
              "    </tr>\n",
              "    <tr>\n",
              "      <th>7.0</th>\n",
              "      <td>2.854151</td>\n",
              "      <td>3.104500</td>\n",
              "      <td>0.901726</td>\n",
              "      <td>-0.639543</td>\n",
              "      <td>-0.956420</td>\n",
              "      <td>0.049982</td>\n",
              "      <td>0.361327</td>\n",
              "      <td>0.357812</td>\n",
              "      <td>0.533273</td>\n",
              "      <td>0.285601</td>\n",
              "      <td>0</td>\n",
              "    </tr>\n",
              "    <tr>\n",
              "      <th>8.0</th>\n",
              "      <td>2.360886</td>\n",
              "      <td>2.403151</td>\n",
              "      <td>0.606985</td>\n",
              "      <td>0.456820</td>\n",
              "      <td>-0.702180</td>\n",
              "      <td>0.432764</td>\n",
              "      <td>0.746255</td>\n",
              "      <td>0.280120</td>\n",
              "      <td>1.291676</td>\n",
              "      <td>1.128288</td>\n",
              "      <td>0</td>\n",
              "    </tr>\n",
              "    <tr>\n",
              "      <th>9.0</th>\n",
              "      <td>2.889104</td>\n",
              "      <td>2.880008</td>\n",
              "      <td>0.411536</td>\n",
              "      <td>0.177395</td>\n",
              "      <td>-1.473637</td>\n",
              "      <td>0.473315</td>\n",
              "      <td>0.481727</td>\n",
              "      <td>0.198126</td>\n",
              "      <td>0.168695</td>\n",
              "      <td>0.533403</td>\n",
              "      <td>0</td>\n",
              "    </tr>\n",
              "    <tr>\n",
              "      <th>10.0</th>\n",
              "      <td>2.933685</td>\n",
              "      <td>3.182874</td>\n",
              "      <td>0.456708</td>\n",
              "      <td>-0.359452</td>\n",
              "      <td>-2.097952</td>\n",
              "      <td>0.020404</td>\n",
              "      <td>0.332002</td>\n",
              "      <td>0.645883</td>\n",
              "      <td>0.508342</td>\n",
              "      <td>1.275688</td>\n",
              "      <td>0</td>\n",
              "    </tr>\n",
              "  </tbody>\n",
              "</table>\n",
              "<p>331 rows × 11 columns</p>\n",
              "</div>"
            ],
            "text/plain": [
              "                     Velocity Mean  ...  Class\n",
              "SubjectID SessionID                 ...       \n",
              "1.0       1.0             0.773873  ...      1\n",
              "          2.0             0.914206  ...      1\n",
              "          3.0             0.767016  ...      1\n",
              "          4.0             1.082144  ...      1\n",
              "          5.0             0.748542  ...      1\n",
              "...                            ...  ...    ...\n",
              "33.0      6.0             2.816752  ...      0\n",
              "          7.0             2.854151  ...      0\n",
              "          8.0             2.360886  ...      0\n",
              "          9.0             2.889104  ...      0\n",
              "          10.0            2.933685  ...      0\n",
              "\n",
              "[331 rows x 11 columns]"
            ]
          },
          "metadata": {},
          "execution_count": 16
        }
      ]
    },
    {
      "cell_type": "code",
      "metadata": {
        "id": "-Gochh2f1cS5"
      },
      "source": [
        "df_feat[\"PChange\"] = df_feat.groupby([\"SubjectID\",\"SessionID\"]).NP.diff()\n",
        "df_feat[\"PJerk\"] = df_feat.groupby([\"SubjectID\",\"SessionID\"]).NP.diff().diff()\n",
        "df_pc = obtain_stats(df_feat,7,1)\n",
        "df_pj = obtain_stats(df_feat,8,1)"
      ],
      "execution_count": 17,
      "outputs": []
    },
    {
      "cell_type": "code",
      "metadata": {
        "colab": {
          "base_uri": "https://localhost:8080/",
          "height": 450
        },
        "id": "0Gc1rYvl1cS5",
        "outputId": "e0325871-81e2-4426-d24b-499a6b990051"
      },
      "source": [
        "df_pj"
      ],
      "execution_count": null,
      "outputs": [
        {
          "output_type": "execute_result",
          "data": {
            "text/html": [
              "<div>\n",
              "<style scoped>\n",
              "    .dataframe tbody tr th:only-of-type {\n",
              "        vertical-align: middle;\n",
              "    }\n",
              "\n",
              "    .dataframe tbody tr th {\n",
              "        vertical-align: top;\n",
              "    }\n",
              "\n",
              "    .dataframe thead th {\n",
              "        text-align: right;\n",
              "    }\n",
              "</style>\n",
              "<table border=\"1\" class=\"dataframe\">\n",
              "  <thead>\n",
              "    <tr style=\"text-align: right;\">\n",
              "      <th></th>\n",
              "      <th></th>\n",
              "      <th>PJerk Mean</th>\n",
              "      <th>PJerk Median</th>\n",
              "      <th>PJerk SD</th>\n",
              "      <th>PJerk Skewness</th>\n",
              "      <th>PJerk Kurtosis</th>\n",
              "      <th>PJerk SD Mean</th>\n",
              "      <th>PJerk SD Median</th>\n",
              "      <th>PJerk SD SD</th>\n",
              "      <th>PJerk SD Skewness</th>\n",
              "      <th>PJerk SD Kurtosis</th>\n",
              "      <th>Class</th>\n",
              "    </tr>\n",
              "    <tr>\n",
              "      <th>SubjectID</th>\n",
              "      <th>SessionID</th>\n",
              "      <th></th>\n",
              "      <th></th>\n",
              "      <th></th>\n",
              "      <th></th>\n",
              "      <th></th>\n",
              "      <th></th>\n",
              "      <th></th>\n",
              "      <th></th>\n",
              "      <th></th>\n",
              "      <th></th>\n",
              "      <th></th>\n",
              "    </tr>\n",
              "  </thead>\n",
              "  <tbody>\n",
              "    <tr>\n",
              "      <th rowspan=\"5\" valign=\"top\">1</th>\n",
              "      <th>1</th>\n",
              "      <td>-0.000961</td>\n",
              "      <td>-2.236842e-02</td>\n",
              "      <td>0.244006</td>\n",
              "      <td>0.199286</td>\n",
              "      <td>-0.990153</td>\n",
              "      <td>0.031110</td>\n",
              "      <td>0.059851</td>\n",
              "      <td>0.064532</td>\n",
              "      <td>0.431421</td>\n",
              "      <td>0.522798</td>\n",
              "      <td>1</td>\n",
              "    </tr>\n",
              "    <tr>\n",
              "      <th>2</th>\n",
              "      <td>0.008739</td>\n",
              "      <td>3.469447e-17</td>\n",
              "      <td>0.173506</td>\n",
              "      <td>0.252335</td>\n",
              "      <td>-0.837725</td>\n",
              "      <td>0.020685</td>\n",
              "      <td>0.063738</td>\n",
              "      <td>0.066931</td>\n",
              "      <td>0.234147</td>\n",
              "      <td>0.317202</td>\n",
              "      <td>1</td>\n",
              "    </tr>\n",
              "    <tr>\n",
              "      <th>3</th>\n",
              "      <td>-0.000472</td>\n",
              "      <td>-4.249998e-02</td>\n",
              "      <td>0.228753</td>\n",
              "      <td>0.151451</td>\n",
              "      <td>-0.615672</td>\n",
              "      <td>0.015678</td>\n",
              "      <td>0.055621</td>\n",
              "      <td>0.046898</td>\n",
              "      <td>0.688104</td>\n",
              "      <td>0.640709</td>\n",
              "      <td>1</td>\n",
              "    </tr>\n",
              "    <tr>\n",
              "      <th>4</th>\n",
              "      <td>0.000388</td>\n",
              "      <td>1.562513e-03</td>\n",
              "      <td>0.226153</td>\n",
              "      <td>0.119726</td>\n",
              "      <td>-0.799930</td>\n",
              "      <td>0.017174</td>\n",
              "      <td>0.036931</td>\n",
              "      <td>0.017178</td>\n",
              "      <td>0.206298</td>\n",
              "      <td>0.125755</td>\n",
              "      <td>1</td>\n",
              "    </tr>\n",
              "    <tr>\n",
              "      <th>5</th>\n",
              "      <td>0.002654</td>\n",
              "      <td>-2.499998e-02</td>\n",
              "      <td>0.249794</td>\n",
              "      <td>0.155493</td>\n",
              "      <td>-0.757826</td>\n",
              "      <td>0.019693</td>\n",
              "      <td>0.075726</td>\n",
              "      <td>0.091248</td>\n",
              "      <td>0.462857</td>\n",
              "      <td>0.725180</td>\n",
              "      <td>1</td>\n",
              "    </tr>\n",
              "    <tr>\n",
              "      <th>...</th>\n",
              "      <th>...</th>\n",
              "      <td>...</td>\n",
              "      <td>...</td>\n",
              "      <td>...</td>\n",
              "      <td>...</td>\n",
              "      <td>...</td>\n",
              "      <td>...</td>\n",
              "      <td>...</td>\n",
              "      <td>...</td>\n",
              "      <td>...</td>\n",
              "      <td>...</td>\n",
              "      <td>...</td>\n",
              "    </tr>\n",
              "    <tr>\n",
              "      <th rowspan=\"5\" valign=\"top\">33</th>\n",
              "      <th>6</th>\n",
              "      <td>0.003428</td>\n",
              "      <td>-4.166683e-03</td>\n",
              "      <td>0.301849</td>\n",
              "      <td>0.233931</td>\n",
              "      <td>-0.521427</td>\n",
              "      <td>0.008384</td>\n",
              "      <td>0.036084</td>\n",
              "      <td>0.057302</td>\n",
              "      <td>0.249736</td>\n",
              "      <td>0.553318</td>\n",
              "      <td>0</td>\n",
              "    </tr>\n",
              "    <tr>\n",
              "      <th>7</th>\n",
              "      <td>0.000981</td>\n",
              "      <td>-2.000000e-08</td>\n",
              "      <td>0.322797</td>\n",
              "      <td>0.010202</td>\n",
              "      <td>-0.629410</td>\n",
              "      <td>0.013017</td>\n",
              "      <td>0.035355</td>\n",
              "      <td>0.020685</td>\n",
              "      <td>0.204258</td>\n",
              "      <td>0.280670</td>\n",
              "      <td>0</td>\n",
              "    </tr>\n",
              "    <tr>\n",
              "      <th>8</th>\n",
              "      <td>0.000345</td>\n",
              "      <td>-3.437499e-02</td>\n",
              "      <td>0.245273</td>\n",
              "      <td>0.270307</td>\n",
              "      <td>-0.256015</td>\n",
              "      <td>0.007720</td>\n",
              "      <td>0.013258</td>\n",
              "      <td>0.031400</td>\n",
              "      <td>0.582198</td>\n",
              "      <td>0.342955</td>\n",
              "      <td>0</td>\n",
              "    </tr>\n",
              "    <tr>\n",
              "      <th>9</th>\n",
              "      <td>0.005814</td>\n",
              "      <td>-4.166680e-03</td>\n",
              "      <td>0.323747</td>\n",
              "      <td>-0.088246</td>\n",
              "      <td>-0.013741</td>\n",
              "      <td>0.017133</td>\n",
              "      <td>0.058072</td>\n",
              "      <td>0.073202</td>\n",
              "      <td>0.219035</td>\n",
              "      <td>0.599857</td>\n",
              "      <td>0</td>\n",
              "    </tr>\n",
              "    <tr>\n",
              "      <th>10</th>\n",
              "      <td>0.006771</td>\n",
              "      <td>-5.312499e-02</td>\n",
              "      <td>0.398001</td>\n",
              "      <td>0.788487</td>\n",
              "      <td>0.519566</td>\n",
              "      <td>0.009575</td>\n",
              "      <td>0.048614</td>\n",
              "      <td>0.104828</td>\n",
              "      <td>0.360162</td>\n",
              "      <td>0.408270</td>\n",
              "      <td>0</td>\n",
              "    </tr>\n",
              "  </tbody>\n",
              "</table>\n",
              "<p>331 rows × 11 columns</p>\n",
              "</div>"
            ],
            "text/plain": [
              "                     PJerk Mean  PJerk Median  ...  PJerk SD Kurtosis  Class\n",
              "SubjectID SessionID                            ...                          \n",
              "1         1           -0.000961 -2.236842e-02  ...           0.522798      1\n",
              "          2            0.008739  3.469447e-17  ...           0.317202      1\n",
              "          3           -0.000472 -4.249998e-02  ...           0.640709      1\n",
              "          4            0.000388  1.562513e-03  ...           0.125755      1\n",
              "          5            0.002654 -2.499998e-02  ...           0.725180      1\n",
              "...                         ...           ...  ...                ...    ...\n",
              "33        6            0.003428 -4.166683e-03  ...           0.553318      0\n",
              "          7            0.000981 -2.000000e-08  ...           0.280670      0\n",
              "          8            0.000345 -3.437499e-02  ...           0.342955      0\n",
              "          9            0.005814 -4.166680e-03  ...           0.599857      0\n",
              "          10           0.006771 -5.312499e-02  ...           0.408270      0\n",
              "\n",
              "[331 rows x 11 columns]"
            ]
          },
          "metadata": {
            "tags": []
          },
          "execution_count": 21
        }
      ]
    },
    {
      "cell_type": "code",
      "metadata": {
        "id": "nFZ_SuDSahw6"
      },
      "source": [
        "data = pd.concat([df_NP,df_HT.iloc[:,0:-1],df_NFT.iloc[:,0:-1],df_v.iloc[:,0:-1],df_a.iloc[:,0:-1],df_pc.iloc[:,0:-1],df_pj.iloc[:,0:-1]], axis=1)\n",
        "\n",
        "X = data.drop(['Class'], axis=1)\n",
        "y = np.array(data.Class)\n",
        "a = data.groupby([\"SubjectID\"]).size()\n",
        "#y = label_binarize(y, classes=[0, 1])\n",
        "groups = data.index.get_level_values('SubjectID').values"
      ],
      "execution_count": 30,
      "outputs": []
    },
    {
      "cell_type": "code",
      "metadata": {
        "id": "D3LpGx_taruJ"
      },
      "source": [
        "os.chdir(\"/content/gdrive/MyDrive/TFM\")\n",
        "#os.chdir(\"/Users/mariabaeza/Desktop/Universidad/BigData/TFM\")\n",
        "pd_patients = [1,2,3,4,5,6,7,8,9,10,13,14,16,17,18,19,20,21]\n",
        "import pickle\n",
        "# Saving the objects:\n",
        "with open('features.pkl', 'wb') as f:  # Python 3: open(..., 'wb')\n",
        "    pickle.dump([data,X,y,a,groups, pd_patients], f)"
      ],
      "execution_count": 34,
      "outputs": []
    }
  ]
}