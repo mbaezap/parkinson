{
  "nbformat": 4,
  "nbformat_minor": 0,
  "metadata": {
    "colab": {
      "name": "DefaultClassifiers.ipynb",
      "provenance": [],
      "collapsed_sections": []
    },
    "kernelspec": {
      "display_name": "Python 3",
      "language": "python",
      "name": "python3"
    },
    "language_info": {
      "codemirror_mode": {
        "name": "ipython",
        "version": 3
      },
      "file_extension": ".py",
      "mimetype": "text/x-python",
      "name": "python",
      "nbconvert_exporter": "python",
      "pygments_lexer": "ipython3",
      "version": "3.8.5"
    }
  },
  "cells": [
    {
      "cell_type": "code",
      "metadata": {
        "id": "whyenOd61cSy"
      },
      "source": [
        "import pandas as pd \n",
        "import numpy as np\n",
        "import os\n",
        "from os import walk\n",
        "import statistics\n",
        "from matplotlib import pyplot as pt\n",
        "from scipy.stats import kurtosis\n",
        "from scipy.stats import skew\n",
        "from scipy.stats import mannwhitneyu\n",
        "import math \n",
        "from scipy.stats import spearmanr\n",
        "import warnings\n",
        "warnings.filterwarnings('ignore')\n",
        "import plotly.graph_objects as go\n",
        "from tqdm.notebook import tqdm\n",
        "%matplotlib inline\n",
        "from matplotlib import pyplot as plt\n",
        "#from google.colab import drive\n",
        "\n",
        "#drive.mount('/content/gdrive')\n",
        "import pickle\n",
        "from sklearn.preprocessing import LabelEncoder"
      ],
      "execution_count": null,
      "outputs": []
    },
    {
      "cell_type": "code",
      "metadata": {
        "id": "tr-kQFyByAWF"
      },
      "source": [
        "# Getting back the objects:\n",
        "with open('preprocessing.pkl', 'rb') as f:  # Python 3: open(..., 'rb')\n",
        "    df_feat, df_nft, df, pd_patients = pickle.load(f)"
      ],
      "execution_count": null,
      "outputs": []
    },
    {
      "cell_type": "code",
      "metadata": {
        "id": "a-Eg6Ci-1cTC"
      },
      "source": [
        "from sklearn.ensemble import RandomForestClassifier, GradientBoostingClassifier, GradientBoostingRegressor, VotingClassifier, AdaBoostClassifier, BaggingRegressor\n",
        "from sklearn.linear_model import LogisticRegression, SGDClassifier\n",
        "from sklearn.neighbors import KNeighborsClassifier\n",
        "from sklearn.neural_network import MLPClassifier\n",
        "from sklearn.discriminant_analysis import LinearDiscriminantAnalysis, QuadraticDiscriminantAnalysis\n",
        "from sklearn.decomposition import PCA\n",
        "from os import cpu_count\n",
        "from sklearn.neural_network import MLPClassifier\n",
        "from sklearn.tree import DecisionTreeClassifier\n",
        "from sklearn.svm import SVC, NuSVC, SVR\n",
        "from collections import namedtuple\n",
        "from sklearn.discriminant_analysis import LinearDiscriminantAnalysis as LDA\n",
        "\n",
        "from sklearn import svm\n",
        "from sklearn.model_selection import train_test_split,LeaveOneGroupOut,cross_val_score,RandomizedSearchCV,GridSearchCV,GroupKFold, KFold\n",
        "from sklearn.impute import SimpleImputer\n",
        "from sklearn.pipeline import Pipeline\n",
        "from sklearn import preprocessing\n",
        "from sklearn.metrics import roc_curve, auc,roc_auc_score\n",
        "from sklearn.preprocessing import label_binarize\n",
        "from sklearn.multiclass import OneVsRestClassifier\n",
        "from sklearn.linear_model import Lasso, LogisticRegression, Ridge\n",
        "from sklearn.feature_selection import SelectFromModel\n",
        "from sklearn.metrics import accuracy_score\n",
        "\n",
        "from sklearn.experimental import enable_iterative_imputer\n",
        "from sklearn.impute import IterativeImputer\n",
        "from sklearn.linear_model import BayesianRidge\n",
        "import lightgbm\n",
        "import seaborn as sns\n",
        "import umap.umap_ as umap"
      ],
      "execution_count": null,
      "outputs": []
    },
    {
      "cell_type": "code",
      "metadata": {
        "colab": {
          "base_uri": "https://localhost:8080/"
        },
        "id": "dwSFlUDOzjZx",
        "outputId": "a7e390b5-5d13-4794-cd19-8c36b28a49f3"
      },
      "source": [
        "from google.colab import drive\n",
        "drive.mount('/content/drive')"
      ],
      "execution_count": null,
      "outputs": [
        {
          "name": "stdout",
          "output_type": "stream",
          "text": [
            "Mounted at /content/drive\n"
          ]
        }
      ]
    },
    {
      "cell_type": "code",
      "metadata": {
        "id": "aRalTk0IzIc_"
      },
      "source": [
        "# Getting back the objects:\n",
        "import pickle\n",
        "import os \n",
        "#os.chdir(\"/content/drive/MyDrive/TFM\")\n",
        "os.chdir(\"/Users/mariabaeza/Desktop/Universidad/BigData/TFM\")\n",
        "with open('features.pkl', 'rb') as f:  # Python 3: open(..., 'rb')\n",
        "    [data,X,y,a,groups,df_demo, pd_patients] = pickle.load(f)\n",
        "logo = LeaveOneGroupOut()\n",
        "cv = logo.split(X,y,groups)"
      ],
      "execution_count": null,
      "outputs": []
    },
    {
      "cell_type": "code",
      "metadata": {
        "id": "D7dR7dBt1cTC"
      },
      "source": [
        "def evaluate_classifier_cv(classifier, X, y,groups,  round_result_to=4,\n",
        "                           scoring='accuracy'):\n",
        "    \"\"\"\n",
        "    :param clf: a classifier that inherrits from sklearn's BaseClassifier\n",
        "    :param X: pandas df of explanatory variables\n",
        "    :param y: target column\n",
        "    :param cross_validation_folds: number of folds for k-fold cross-validation\n",
        "    :return: prints train accuracy on the entire dataset, and the test accuracy calculated with k-fold cross validation\n",
        "    \"\"\"\n",
        "    clf=Pipeline([\n",
        "                  ('imputation', SimpleImputer()),\n",
        "    #('imputation',IterativeImputer(random_state=0, estimator=BayesianRidge())),\n",
        "    ('scaling',preprocessing.RobustScaler()),\n",
        "    #('lda', LDA()),\n",
        "        #('umap', umap.UMAP()),\n",
        "    ('classifier',classifier)\n",
        "])\n",
        "    logo = LeaveOneGroupOut()\n",
        "    all_y, all_probs,all_y_subject, all_probs_subject, accuracy = trainf(clf)\n",
        "    \n",
        "    return all_y, all_probs,all_y_subject, all_probs_subject, accuracy"
      ],
      "execution_count": null,
      "outputs": []
    },
    {
      "cell_type": "code",
      "metadata": {
        "colab": {
          "base_uri": "https://localhost:8080/"
        },
        "id": "B_Svx6f41cTC",
        "outputId": "c6fd70b2-8722-4ba3-f1e7-1068fb0cebd2"
      },
      "source": [
        "classifiers = [LogisticRegression(),\n",
        "               RandomForestClassifier(),\n",
        "               AdaBoostClassifier(),\n",
        "               KNeighborsClassifier(),\n",
        "               GradientBoostingClassifier(),\n",
        "               SVC(kernel='rbf', probability=True),\n",
        "               ]\n",
        "for final_classifier in classifiers:\n",
        "    all_y, all_probs,all_y_subject, all_probs_subject, accuracy = evaluate_classifier_cv(final_classifier, X, y, groups)\n",
        "    print(str(final_classifier).split(\"(\")[0] + \":\")\n",
        "    print(metrics(all_y, all_probs))\n",
        "    print(metrics(all_y_subject, all_probs_subject))\n",
        "    print(\"\\t\")"
      ],
      "execution_count": null,
      "outputs": [
        {
          "name": "stdout",
          "output_type": "stream",
          "text": [
            "LogisticRegression:\n",
            "{'AUC': 0.8066218463095496, 'Sensitivity': 0.7241379310344828, 'Specificity': 0.7672955974842768, 'Precision': 0.37537537537537535, 'Recall': 0.7183908045977011, 'F1': 0.4930966469428007}\n",
            "{'AUC': 0.8, 'Sensitivity': 0.7647058823529411, 'Specificity': 0.8666666666666667, 'Precision': 0.375, 'Recall': 0.7058823529411765, 'F1': 0.48979591836734687}\n",
            "\t\n",
            "RandomForestClassifier:\n",
            "{'AUC': 0.773819851080749, 'Sensitivity': 0.5862068965517241, 'Specificity': 0.8679245283018868, 'Precision': 0.3033033033033033, 'Recall': 0.5804597701149425, 'F1': 0.3984220907297831}\n",
            "{'AUC': 0.7901960784313725, 'Sensitivity': 0.7647058823529411, 'Specificity': 0.7333333333333334, 'Precision': 0.375, 'Recall': 0.7058823529411765, 'F1': 0.48979591836734687}\n",
            "\t\n",
            "AdaBoostClassifier:\n",
            "{'AUC': 0.807525482541748, 'Sensitivity': 0.5459770114942529, 'Specificity': 0.9874213836477987, 'Precision': 0.2822822822822823, 'Recall': 0.5402298850574713, 'F1': 0.37080867850098626}\n",
            "{'AUC': 0.7686274509803922, 'Sensitivity': 0.7058823529411765, 'Specificity': 0.8, 'Precision': 0.3125, 'Recall': 0.5882352941176471, 'F1': 0.40816326530612246}\n",
            "\t\n",
            "KNeighborsClassifier:\n",
            "{'AUC': 0.7175413865394347, 'Sensitivity': 0.6781609195402298, 'Specificity': 0.6540880503144655, 'Precision': 0.26426426426426425, 'Recall': 0.5057471264367817, 'F1': 0.34714003944773175}\n",
            "{'AUC': 0.7784313725490196, 'Sensitivity': 0.6470588235294118, 'Specificity': 0.9333333333333333, 'Precision': 0.28125, 'Recall': 0.5294117647058824, 'F1': 0.3673469387755102}\n",
            "\t\n",
            "GradientBoostingClassifier:\n",
            "{'AUC': 0.7468734186365936, 'Sensitivity': 0.5689655172413793, 'Specificity': 0.89937106918239, 'Precision': 0.29429429429429427, 'Recall': 0.5632183908045977, 'F1': 0.3865877712031558}\n",
            "{'AUC': 0.7392156862745098, 'Sensitivity': 0.7058823529411765, 'Specificity': 0.8, 'Precision': 0.3125, 'Recall': 0.5882352941176471, 'F1': 0.40816326530612246}\n",
            "\t\n",
            "SVC:\n",
            "{'AUC': 0.778753704908552, 'Sensitivity': 0.7011494252873564, 'Specificity': 0.7672955974842768, 'Precision': 0.3633633633633634, 'Recall': 0.6954022988505747, 'F1': 0.47731755424063116}\n",
            "{'AUC': 0.8176470588235294, 'Sensitivity': 0.7058823529411765, 'Specificity': 0.8666666666666667, 'Precision': 0.34375, 'Recall': 0.6470588235294118, 'F1': 0.4489795918367347}\n",
            "\t\n"
          ]
        }
      ]
    },
    {
      "cell_type": "code",
      "metadata": {
        "id": "jPwL0Doygwnt"
      },
      "source": [
        "def evaluate_classifier_cv(classifier, X, y,groups,  round_result_to=4,\n",
        "                           scoring='accuracy'):\n",
        "    \"\"\"\n",
        "    :param clf: a classifier that inherrits from sklearn's BaseClassifier\n",
        "    :param X: pandas df of explanatory variables\n",
        "    :param y: target column\n",
        "    :param cross_validation_folds: number of folds for k-fold cross-validation\n",
        "    :return: prints train accuracy on the entire dataset, and the test accuracy calculated with k-fold cross validation\n",
        "    \"\"\"\n",
        "    clf=Pipeline([\n",
        "                  ('imputation', SimpleImputer()),\n",
        "    #('imputation',IterativeImputer(random_state=0, estimator=BayesianRidge())),\n",
        "    ('scaling',preprocessing.RobustScaler()),\n",
        "    #('lda', LDA()),\n",
        "        ('umap', umap.UMAP(random_state = 42)),\n",
        "    ('classifier',classifier)\n",
        "])\n",
        "    logo = LeaveOneGroupOut()\n",
        "    all_y, all_probs,all_y_subject, all_probs_subject, accuracy = trainf(clf)\n",
        "    return all_y, all_probs,all_y_subject, all_probs_subject, accuracy"
      ],
      "execution_count": null,
      "outputs": []
    },
    {
      "cell_type": "code",
      "metadata": {
        "id": "Dv4V_y_7g4So"
      },
      "source": [
        "classifiers = [LogisticRegression(),\n",
        "               RandomForestClassifier(),\n",
        "               AdaBoostClassifier(),\n",
        "               KNeighborsClassifier(),\n",
        "               GradientBoostingClassifier(),\n",
        "               SVC(kernel='rbf', probability=True),\n",
        "               ]\n",
        "for final_classifier in classifiers:\n",
        "    accuracy = evaluate_classifier_cv(final_classifier, X, y, groups)\n",
        "    print(str(final_classifier).split(\"(\")[0] + \":\")\n",
        "    print(\"\\t\"+accuracy.train)\n",
        "    print(\"\\t\" + accuracy.test)"
      ],
      "execution_count": null,
      "outputs": []
    }
  ]
}